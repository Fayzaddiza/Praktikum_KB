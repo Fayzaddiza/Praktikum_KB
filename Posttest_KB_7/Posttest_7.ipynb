{
 "cells": [
  {
   "cell_type": "markdown",
   "metadata": {},
   "source": [
    "### **Posttest 7 KB**\n",
    "### Fayza Virdana Addiza\n",
    "### 2009106004"
   ]
  },
  {
   "cell_type": "code",
   "execution_count": 49,
   "metadata": {},
   "outputs": [],
   "source": [
    "import tensorflow as tf"
   ]
  },
  {
   "cell_type": "markdown",
   "metadata": {},
   "source": [
    "# Membuat sebuah tensor dengan shape(5,5) dengan nilai random yang disimpan dalam variable **random_tensor**"
   ]
  },
  {
   "cell_type": "code",
   "execution_count": 50,
   "metadata": {},
   "outputs": [
    {
     "data": {
      "text/plain": [
       "<tf.Tensor: shape=(5, 5), dtype=float32, numpy=\n",
       "array([[-0.32386488,  0.99133694,  0.14024267,  1.2573972 ,  0.09992335],\n",
       "       [ 0.18983224, -0.28711194, -1.7413595 ,  1.8718754 , -2.0104504 ],\n",
       "       [-1.4673029 , -1.2721989 , -0.7803738 ,  0.94073033, -0.06164822],\n",
       "       [-2.0842526 ,  0.61423135, -1.451092  , -0.88693523, -0.96740866],\n",
       "       [ 0.94831836, -0.6974499 ,  0.5391437 , -0.52970064, -2.0105364 ]],\n",
       "      dtype=float32)>"
      ]
     },
     "execution_count": 50,
     "metadata": {},
     "output_type": "execute_result"
    }
   ],
   "source": [
    "random_tensor = tf.random.normal([5,5], mean=0, stddev=1, seed=1)\n",
    "random_tensor"
   ]
  },
  {
   "cell_type": "markdown",
   "metadata": {},
   "source": [
    "# Membuat sebuah tensor dengan shape(5,5) dari sebuah list dengan nilai bilangan prima dalam variable **prime_tensor**"
   ]
  },
  {
   "cell_type": "code",
   "execution_count": 51,
   "metadata": {},
   "outputs": [
    {
     "data": {
      "text/plain": [
       "<tf.Tensor: shape=(5, 5), dtype=int64, numpy=\n",
       "array([[ 2,  3,  5,  7, 11],\n",
       "       [13, 17, 19, 23, 29],\n",
       "       [23, 19,  2,  7, 17],\n",
       "       [17,  7, 37, 11,  3],\n",
       "       [31, 11,  2,  5, 37]], dtype=int64)>"
      ]
     },
     "execution_count": 51,
     "metadata": {},
     "output_type": "execute_result"
    }
   ],
   "source": [
    "prime_tensor= [[2, 3, 5, 7, 11], [13, 17, 19, 23, 29], [23, 19, 2, 7, 17], [17, 7, 37, 11, 3],[31, 11, 2, 5, 37]]\n",
    "\n",
    "tf.convert_to_tensor(prime_tensor, dtype=tf.int64)"
   ]
  },
  {
   "cell_type": "markdown",
   "metadata": {},
   "source": [
    "# Tampilkan dimensi dari kedua variable tersebut\n",
    " - ## Menampilkan dimensi dari variabel random_tensor"
   ]
  },
  {
   "cell_type": "code",
   "execution_count": 52,
   "metadata": {},
   "outputs": [
    {
     "name": "stdout",
     "output_type": "stream",
     "text": [
      "Dimensi kulit pertama random_tensor :\n",
      " tf.Tensor([[-0.32386488  0.99133694  0.14024267  1.2573972   0.09992335]], shape=(1, 5), dtype=float32) \n",
      "\n",
      "Dimensi kulit kedua random_tensor :\n",
      " tf.Tensor([[ 0.18983224 -0.28711194 -1.7413595   1.8718754  -2.0104504 ]], shape=(1, 5), dtype=float32) \n",
      "\n",
      "Dimensi kulit ketiga random_tensor :\n",
      " tf.Tensor([[-1.4673029  -1.2721989  -0.7803738   0.94073033 -0.06164822]], shape=(1, 5), dtype=float32) \n",
      "\n",
      "Dimensi kulit keempat random_tensor :\n",
      " tf.Tensor([[-2.0842526   0.61423135 -1.451092   -0.88693523 -0.96740866]], shape=(1, 5), dtype=float32) \n",
      "\n",
      "Dimensi kulit kelima random_tensor :\n",
      " tf.Tensor([[ 0.94831836 -0.6974499   0.5391437  -0.52970064 -2.0105364 ]], shape=(1, 5), dtype=float32)\n"
     ]
    }
   ],
   "source": [
    "print(\"Dimensi kulit pertama random_tensor :\\n\", random_tensor[0:1], \"\\n\")\n",
    "print(\"Dimensi kulit kedua random_tensor :\\n\", random_tensor[1:2], \"\\n\")\n",
    "print(\"Dimensi kulit ketiga random_tensor :\\n\", random_tensor[2:3], \"\\n\")\n",
    "print(\"Dimensi kulit keempat random_tensor :\\n\", random_tensor[3:4], \"\\n\")\n",
    "print(\"Dimensi kulit kelima random_tensor :\\n\", random_tensor[4:5])\n"
   ]
  },
  {
   "cell_type": "markdown",
   "metadata": {},
   "source": [
    "- ## Menampilkan satu element dari variabel random_tensor"
   ]
  },
  {
   "cell_type": "code",
   "execution_count": 53,
   "metadata": {},
   "outputs": [
    {
     "name": "stdout",
     "output_type": "stream",
     "text": [
      "Element random_tensor baris ke-1, kolom ke-2 : tf.Tensor(0.99133694, shape=(), dtype=float32) \n",
      "\n",
      "Element random_tensor baris ke-5, kolom ke-3 : tf.Tensor(0.5391437, shape=(), dtype=float32) \n",
      "\n",
      "Element random_tensor baris ke-3, kolom ke-4 : tf.Tensor(0.94073033, shape=(), dtype=float32) \n",
      "\n"
     ]
    }
   ],
   "source": [
    "print(\"Element random_tensor baris ke-1, kolom ke-2 :\", random_tensor[0,1], \"\\n\")\n",
    "print(\"Element random_tensor baris ke-5, kolom ke-3 :\", random_tensor[4,2], \"\\n\")\n",
    "print(\"Element random_tensor baris ke-3, kolom ke-4 :\", random_tensor[2,3], \"\\n\")"
   ]
  },
  {
   "cell_type": "markdown",
   "metadata": {},
   "source": [
    "- ## Menampilkan dimensi dari variabel prime_tensor"
   ]
  },
  {
   "cell_type": "code",
   "execution_count": 54,
   "metadata": {},
   "outputs": [
    {
     "name": "stdout",
     "output_type": "stream",
     "text": [
      "Dimensi kulit pertama prime_tensor :\n",
      " [[2, 3, 5, 7, 11]] \n",
      "\n",
      "Dimensi kulit kedua prime_tensor :\n",
      " [[13, 17, 19, 23, 29]] \n",
      "\n",
      "Dimensi kulit ketiga prime_tensor :\n",
      " [[23, 19, 2, 7, 17]] \n",
      "\n",
      "Dimensi kulit keempat prime_tensor :\n",
      " [[17, 7, 37, 11, 3]] \n",
      "\n",
      "Dimensi kulit kelima prime_tensor :\n",
      " [[31, 11, 2, 5, 37]]\n"
     ]
    }
   ],
   "source": [
    "print(\"Dimensi kulit pertama prime_tensor :\\n\", prime_tensor[0:1], \"\\n\")\n",
    "print(\"Dimensi kulit kedua prime_tensor :\\n\", prime_tensor[1:2], \"\\n\")\n",
    "print(\"Dimensi kulit ketiga prime_tensor :\\n\", prime_tensor[2:3], \"\\n\")\n",
    "print(\"Dimensi kulit keempat prime_tensor :\\n\", prime_tensor[3:4], \"\\n\")\n",
    "print(\"Dimensi kulit kelima prime_tensor :\\n\", prime_tensor[4:5])"
   ]
  },
  {
   "cell_type": "markdown",
   "metadata": {},
   "source": [
    "# Tampilkan hasil dari perhitungan aritmetika"
   ]
  },
  {
   "cell_type": "code",
   "execution_count": 55,
   "metadata": {},
   "outputs": [
    {
     "data": {
      "text/plain": [
       "<tf.Tensor: shape=(5, 5), dtype=float32, numpy=\n",
       "array([[ 1.6761351,  3.9913368,  5.1402426,  8.257397 , 11.099923 ],\n",
       "       [13.189833 , 16.712889 , 17.25864  , 24.871876 , 26.98955  ],\n",
       "       [21.532698 , 17.7278   ,  1.2196262,  7.94073  , 16.938353 ],\n",
       "       [14.915748 ,  7.614231 , 35.54891  , 10.113065 ,  2.0325913],\n",
       "       [31.948318 , 10.30255  ,  2.5391436,  4.4702992, 34.989464 ]],\n",
       "      dtype=float32)>"
      ]
     },
     "execution_count": 55,
     "metadata": {},
     "output_type": "execute_result"
    }
   ],
   "source": [
    "# pertambahan\n",
    "tf.add(random_tensor, prime_tensor)"
   ]
  },
  {
   "cell_type": "code",
   "execution_count": 56,
   "metadata": {},
   "outputs": [
    {
     "data": {
      "text/plain": [
       "<tf.Tensor: shape=(5, 5), dtype=float32, numpy=\n",
       "array([[ -2.323865 ,  -2.0086632,  -4.8597574,  -5.742603 , -10.900077 ],\n",
       "       [-12.810167 , -17.287111 , -20.74136  , -21.128124 , -31.01045  ],\n",
       "       [-24.467302 , -20.2722   ,  -2.7803738,  -6.05927  , -17.061647 ],\n",
       "       [-19.084253 ,  -6.385769 , -38.45109  , -11.886935 ,  -3.9674087],\n",
       "       [-30.051682 , -11.69745  ,  -1.4608563,  -5.5297008, -39.010536 ]],\n",
       "      dtype=float32)>"
      ]
     },
     "execution_count": 56,
     "metadata": {},
     "output_type": "execute_result"
    }
   ],
   "source": [
    "# pengurangan\n",
    "tf.subtract(random_tensor, prime_tensor)"
   ]
  },
  {
   "cell_type": "code",
   "execution_count": 59,
   "metadata": {},
   "outputs": [
    {
     "data": {
      "text/plain": [
       "<tf.Tensor: shape=(5, 5), dtype=float32, numpy=\n",
       "array([[ -0.64772975,   2.974011  ,   0.70121336,   8.801781  ,\n",
       "          1.0991569 ],\n",
       "       [  2.4678192 ,  -4.880903  , -33.08583   ,  43.053135  ,\n",
       "        -58.303062  ],\n",
       "       [-33.747967  , -24.17178   ,  -1.5607476 ,   6.5851126 ,\n",
       "         -1.0480198 ],\n",
       "       [-35.432293  ,   4.2996197 , -53.690403  ,  -9.756288  ,\n",
       "         -2.902226  ],\n",
       "       [ 29.39787   ,  -7.6719494 ,   1.0782874 ,  -2.6485033 ,\n",
       "        -74.38985   ]], dtype=float32)>"
      ]
     },
     "execution_count": 59,
     "metadata": {},
     "output_type": "execute_result"
    }
   ],
   "source": [
    "# perkalian\n",
    "tf.multiply(random_tensor, prime_tensor)"
   ]
  },
  {
   "cell_type": "code",
   "execution_count": 58,
   "metadata": {},
   "outputs": [
    {
     "data": {
      "text/plain": [
       "<tf.Tensor: shape=(5, 5), dtype=float32, numpy=\n",
       "array([[-0.16193244,  0.33044565,  0.02804853,  0.17962816,  0.00908394],\n",
       "       [ 0.01460248, -0.01688894, -0.0916505 ,  0.08138589, -0.06932587],\n",
       "       [-0.06379578, -0.06695784, -0.3901869 ,  0.13439004, -0.00362637],\n",
       "       [-0.1226031 ,  0.08774734, -0.0392187 , -0.08063047, -0.32246956],\n",
       "       [ 0.03059091, -0.06340454,  0.26957184, -0.10594013, -0.05433882]],\n",
       "      dtype=float32)>"
      ]
     },
     "execution_count": 58,
     "metadata": {},
     "output_type": "execute_result"
    }
   ],
   "source": [
    "# pembagian\n",
    "tf.divide(random_tensor, prime_tensor)"
   ]
  },
  {
   "cell_type": "code",
   "execution_count": 60,
   "metadata": {},
   "outputs": [
    {
     "data": {
      "text/plain": [
       "<tf.Tensor: shape=(5, 5), dtype=float32, numpy=\n",
       "array([[ 1.0488846e-01,  9.7423530e-01,  5.4250133e-05,  4.9694390e+00,\n",
       "         9.9160073e-12],\n",
       "       [ 4.1572837e-10, -6.1216887e-10, -3.7746809e+04,  1.8296565e+06,\n",
       "        -6.2446387e+08],\n",
       "       [-6.7601289e+03, -9.6949463e+01,  6.0898328e-01,  6.5201265e-01,\n",
       "        -2.6831788e-21],\n",
       "       [-2.6433578e+05,  3.2985557e-02, -9.6097731e+05, -2.6718432e-01,\n",
       "        -9.0537792e-01],\n",
       "       [ 1.9300961e-01, -1.8995177e-02,  2.9067591e-01, -4.1701578e-02,\n",
       "        -1.6693294e+11]], dtype=float32)>"
      ]
     },
     "execution_count": 60,
     "metadata": {},
     "output_type": "execute_result"
    }
   ],
   "source": [
    "# perpangkatan\n",
    "tf.pow(random_tensor, prime_tensor)"
   ]
  },
  {
   "cell_type": "markdown",
   "metadata": {},
   "source": [
    "# Tampilkan nilai maksimal dan minimal dari variable random_tensor"
   ]
  },
  {
   "cell_type": "code",
   "execution_count": 61,
   "metadata": {},
   "outputs": [
    {
     "data": {
      "text/plain": [
       "<tf.Tensor: shape=(5,), dtype=int64, numpy=array([4, 0, 4, 1, 0], dtype=int64)>"
      ]
     },
     "execution_count": 61,
     "metadata": {},
     "output_type": "execute_result"
    }
   ],
   "source": [
    "# posisi nilai maksimal berdasarkan kolom\n",
    "tf.argmax(random_tensor, axis=0)"
   ]
  },
  {
   "cell_type": "code",
   "execution_count": 62,
   "metadata": {},
   "outputs": [
    {
     "data": {
      "text/plain": [
       "<tf.Tensor: shape=(5,), dtype=int64, numpy=array([0, 4, 0, 0, 4], dtype=int64)>"
      ]
     },
     "execution_count": 62,
     "metadata": {},
     "output_type": "execute_result"
    }
   ],
   "source": [
    "# posisi nilai minimal berdasarkan baris\n",
    "tf.argmin(random_tensor, axis=1)"
   ]
  },
  {
   "cell_type": "markdown",
   "metadata": {},
   "source": [
    "# Tampilkan hasil dari penggabungan variable random_tensor dengan prime_tensor (concatenation)"
   ]
  },
  {
   "cell_type": "code",
   "execution_count": 63,
   "metadata": {},
   "outputs": [
    {
     "name": "stdout",
     "output_type": "stream",
     "text": [
      "(10, 5)\n",
      "tf.Tensor(\n",
      "[[-0.32386488  0.99133694  0.14024267  1.2573972   0.09992335]\n",
      " [ 0.18983224 -0.28711194 -1.7413595   1.8718754  -2.0104504 ]\n",
      " [-1.4673029  -1.2721989  -0.7803738   0.94073033 -0.06164822]\n",
      " [-2.0842526   0.61423135 -1.451092   -0.88693523 -0.96740866]\n",
      " [ 0.94831836 -0.6974499   0.5391437  -0.52970064 -2.0105364 ]\n",
      " [ 2.          3.          5.          7.         11.        ]\n",
      " [13.         17.         19.         23.         29.        ]\n",
      " [23.         19.          2.          7.         17.        ]\n",
      " [17.          7.         37.         11.          3.        ]\n",
      " [31.         11.          2.          5.         37.        ]], shape=(10, 5), dtype=float32)\n"
     ]
    }
   ],
   "source": [
    "gabung_tensor = tf.concat([random_tensor, prime_tensor], axis=0)\n",
    "print(gabung_tensor.shape)\n",
    "print(gabung_tensor)"
   ]
  },
  {
   "cell_type": "markdown",
   "metadata": {},
   "source": [
    "# Tampilkan hasil sorting dari kedua variable di atas. (descending)"
   ]
  },
  {
   "cell_type": "code",
   "execution_count": 64,
   "metadata": {},
   "outputs": [
    {
     "data": {
      "text/plain": [
       "<tf.Tensor: shape=(5, 5), dtype=float32, numpy=\n",
       "array([[ 1.2573972 ,  0.99133694,  0.14024267,  0.09992335, -0.32386488],\n",
       "       [ 1.8718754 ,  0.18983224, -0.28711194, -1.7413595 , -2.0104504 ],\n",
       "       [ 0.94073033, -0.06164822, -0.7803738 , -1.2721989 , -1.4673029 ],\n",
       "       [ 0.61423135, -0.88693523, -0.96740866, -1.451092  , -2.0842526 ],\n",
       "       [ 0.94831836,  0.5391437 , -0.52970064, -0.6974499 , -2.0105364 ]],\n",
       "      dtype=float32)>"
      ]
     },
     "execution_count": 64,
     "metadata": {},
     "output_type": "execute_result"
    }
   ],
   "source": [
    "tf.sort(random_tensor, direction='DESCENDING')"
   ]
  },
  {
   "cell_type": "code",
   "execution_count": 65,
   "metadata": {},
   "outputs": [
    {
     "data": {
      "text/plain": [
       "<tf.Tensor: shape=(5, 5), dtype=int32, numpy=\n",
       "array([[11,  7,  5,  3,  2],\n",
       "       [29, 23, 19, 17, 13],\n",
       "       [23, 19, 17,  7,  2],\n",
       "       [37, 17, 11,  7,  3],\n",
       "       [37, 31, 11,  5,  2]])>"
      ]
     },
     "execution_count": 65,
     "metadata": {},
     "output_type": "execute_result"
    }
   ],
   "source": [
    "tf.sort(prime_tensor, direction='DESCENDING')"
   ]
  }
 ],
 "metadata": {
  "interpreter": {
   "hash": "d1fbdb9631944acadbd7e25ba74a24bf84510f895c8202b1aa17f36836065275"
  },
  "kernelspec": {
   "display_name": "Python 3.10.7 64-bit",
   "language": "python",
   "name": "python3"
  },
  "language_info": {
   "codemirror_mode": {
    "name": "ipython",
    "version": 3
   },
   "file_extension": ".py",
   "mimetype": "text/x-python",
   "name": "python",
   "nbconvert_exporter": "python",
   "pygments_lexer": "ipython3",
   "version": "3.10.7"
  },
  "orig_nbformat": 4
 },
 "nbformat": 4,
 "nbformat_minor": 2
}
