{
 "cells": [
  {
   "cell_type": "code",
   "execution_count": 2,
   "id": "cce8a387-9f1a-4a7e-9c9d-f9d50ab684e9",
   "metadata": {},
   "outputs": [],
   "source": [
    "import pandas as pd\n",
    "import numpy as np\n",
    "from tabulate import tabulate"
   ]
  },
  {
   "cell_type": "markdown",
   "id": "220caa31-dfa6-4223-a98c-947b0a1a823f",
   "metadata": {},
   "source": [
    "Melihat  jumlah record, nama attribute, jumlah attribute dengan tipe objek, jumlah attribute dengan tipe angka, jumlah attribute yang memiliki nilai null."
   ]
  },
  {
   "cell_type": "code",
   "execution_count": 3,
   "id": "d985bdc9-ce28-45b6-8316-afde4ba3bc77",
   "metadata": {},
   "outputs": [],
   "source": [
    "data = pd.read_csv(\"Airplane_Crashes_and_Fatalities_Since_1908.csv\")"
   ]
  },
  {
   "cell_type": "code",
   "execution_count": 4,
   "id": "95a5503a-f8be-4622-a86c-afabb5a5309c",
   "metadata": {},
   "outputs": [
    {
     "name": "stdout",
     "output_type": "stream",
     "text": [
      "<class 'pandas.core.frame.DataFrame'>\n",
      "RangeIndex: 5268 entries, 0 to 5267\n",
      "Data columns (total 14 columns):\n",
      " #   Column        Non-Null Count  Dtype  \n",
      "---  ------        --------------  -----  \n",
      " 0   index         5268 non-null   int64  \n",
      " 1   Date          5268 non-null   object \n",
      " 2   Time          3049 non-null   object \n",
      " 3   Location      5248 non-null   object \n",
      " 4   Operator      5250 non-null   object \n",
      " 5   Flight #      1069 non-null   object \n",
      " 6   Route         3562 non-null   object \n",
      " 7   Type          5241 non-null   object \n",
      " 8   Registration  4933 non-null   object \n",
      " 9   cn/In         4040 non-null   object \n",
      " 10  Aboard        5246 non-null   float64\n",
      " 11  Fatalities    5256 non-null   float64\n",
      " 12  Ground        5246 non-null   float64\n",
      " 13  Summary       4878 non-null   object \n",
      "dtypes: float64(3), int64(1), object(10)\n",
      "memory usage: 576.3+ KB\n"
     ]
    }
   ],
   "source": [
    "data.info()"
   ]
  },
  {
   "cell_type": "markdown",
   "id": "5ec373f4-7453-445a-a7c1-5121458850ac",
   "metadata": {},
   "source": [
    "Masukkan informasi di atas dalam dictionary dengan key sesuai nama informasinya. Tampilkan isi dari dictionary tersebut sebagus mungkin."
   ]
  },
  {
   "cell_type": "code",
   "execution_count": 6,
   "id": "ade070b0-46ea-4cd6-b1cb-ec9424482280",
   "metadata": {},
   "outputs": [],
   "source": [
    "#jumlah Record\n",
    "jumlah = len(data)"
   ]
  },
  {
   "cell_type": "code",
   "execution_count": 7,
   "id": "2f73ff57-25e3-4b61-92c6-693fa8dc1e4c",
   "metadata": {},
   "outputs": [],
   "source": [
    "atribut = list(data.columns)\n",
    "atribut = \"\\n\".join(atribut)"
   ]
  },
  {
   "cell_type": "code",
   "execution_count": 10,
   "id": "68979736-131e-4b03-9f48-d46f551df0ca",
   "metadata": {},
   "outputs": [],
   "source": [
    "#jumlah atribut tipe object\n",
    "obj = len(data.dtypes[data.dtypes == 'object'])"
   ]
  },
  {
   "cell_type": "code",
   "execution_count": 11,
   "id": "abc5138b-bdf1-4761-97ab-dbf2efbc3faf",
   "metadata": {},
   "outputs": [],
   "source": [
    "#jumlah atribut tipe angka\n",
    "num = len(data.dtypes[data.dtypes == 'int64'])\n",
    "num1 = len(data.dtypes[data.dtypes == 'float64'])"
   ]
  },
  {
   "cell_type": "code",
   "execution_count": 12,
   "id": "62d4be02-1c64-46c6-a103-ac981f86aa76",
   "metadata": {},
   "outputs": [],
   "source": [
    "#jumlah atribut nilai null\n",
    "nul = data.isna().any().sum()"
   ]
  },
  {
   "cell_type": "code",
   "execution_count": 13,
   "id": "cc202a0a-871f-4f4f-a1ba-92ba6dc75274",
   "metadata": {},
   "outputs": [],
   "source": [
    "dictionary = {\n",
    "    \"Jumlah Record\" : [jumlah],\n",
    "    \"Atribut\":[atribut],\n",
    "    \"Jumlah Tipe Object\" : [obj],\n",
    "    \"Jumlah Tipe Integer\" : [num],\n",
    "    \"Jumlah Tipe Float\" : [num1],\n",
    "    \"Jumlah Nilai NULL\" : [nul],\n",
    "\n",
    "}"
   ]
  },
  {
   "cell_type": "code",
   "execution_count": 14,
   "id": "f78877a4-cbc1-46eb-8046-d86571f58d79",
   "metadata": {},
   "outputs": [
    {
     "name": "stdout",
     "output_type": "stream",
     "text": [
      "+-----------------+--------------+----------------------+-----------------------+---------------------+---------------------+\n",
      "|   Jumlah Record | Atribut      |   Jumlah Tipe Object |   Jumlah Tipe Integer |   Jumlah Tipe Float |   Jumlah Nilai NULL |\n",
      "|-----------------+--------------+----------------------+-----------------------+---------------------+---------------------|\n",
      "|            5268 | index        |                   10 |                     1 |                   3 |                  12 |\n",
      "|                 | Date         |                      |                       |                     |                     |\n",
      "|                 | Time         |                      |                       |                     |                     |\n",
      "|                 | Location     |                      |                       |                     |                     |\n",
      "|                 | Operator     |                      |                       |                     |                     |\n",
      "|                 | Flight #     |                      |                       |                     |                     |\n",
      "|                 | Route        |                      |                       |                     |                     |\n",
      "|                 | Type         |                      |                       |                     |                     |\n",
      "|                 | Registration |                      |                       |                     |                     |\n",
      "|                 | cn/In        |                      |                       |                     |                     |\n",
      "|                 | Aboard       |                      |                       |                     |                     |\n",
      "|                 | Fatalities   |                      |                       |                     |                     |\n",
      "|                 | Ground       |                      |                       |                     |                     |\n",
      "|                 | Summary      |                      |                       |                     |                     |\n",
      "+-----------------+--------------+----------------------+-----------------------+---------------------+---------------------+\n"
     ]
    }
   ],
   "source": [
    "tabel = pd.DataFrame(dictionary)\n",
    "print(tabulate(tabel, headers='keys', tablefmt='psql', showindex=False))"
   ]
  },
  {
   "cell_type": "markdown",
   "id": "da80446f-33ba-4eb5-9725-e9851b5c939f",
   "metadata": {},
   "source": [
    "Tampilkan rata-rata, standar deviasi, nilai minimum, nilai maksimum, Q1, Q2, dan Q3 dari attribute bertipe angka."
   ]
  },
  {
   "cell_type": "code",
   "execution_count": 15,
   "id": "9161c081-c350-4374-8ec9-93c97d6e3984",
   "metadata": {},
   "outputs": [
    {
     "data": {
      "text/html": [
       "<div>\n",
       "<style scoped>\n",
       "    .dataframe tbody tr th:only-of-type {\n",
       "        vertical-align: middle;\n",
       "    }\n",
       "\n",
       "    .dataframe tbody tr th {\n",
       "        vertical-align: top;\n",
       "    }\n",
       "\n",
       "    .dataframe thead th {\n",
       "        text-align: right;\n",
       "    }\n",
       "</style>\n",
       "<table border=\"1\" class=\"dataframe\">\n",
       "  <thead>\n",
       "    <tr style=\"text-align: right;\">\n",
       "      <th></th>\n",
       "      <th>index</th>\n",
       "      <th>Aboard</th>\n",
       "      <th>Fatalities</th>\n",
       "      <th>Ground</th>\n",
       "    </tr>\n",
       "  </thead>\n",
       "  <tbody>\n",
       "    <tr>\n",
       "      <th>count</th>\n",
       "      <td>5268.00000</td>\n",
       "      <td>5246.000000</td>\n",
       "      <td>5256.000000</td>\n",
       "      <td>5246.000000</td>\n",
       "    </tr>\n",
       "    <tr>\n",
       "      <th>mean</th>\n",
       "      <td>2633.50000</td>\n",
       "      <td>27.554518</td>\n",
       "      <td>20.068303</td>\n",
       "      <td>1.608845</td>\n",
       "    </tr>\n",
       "    <tr>\n",
       "      <th>std</th>\n",
       "      <td>1520.88494</td>\n",
       "      <td>43.076711</td>\n",
       "      <td>33.199952</td>\n",
       "      <td>53.987827</td>\n",
       "    </tr>\n",
       "    <tr>\n",
       "      <th>min</th>\n",
       "      <td>0.00000</td>\n",
       "      <td>0.000000</td>\n",
       "      <td>0.000000</td>\n",
       "      <td>0.000000</td>\n",
       "    </tr>\n",
       "    <tr>\n",
       "      <th>25%</th>\n",
       "      <td>1316.75000</td>\n",
       "      <td>5.000000</td>\n",
       "      <td>3.000000</td>\n",
       "      <td>0.000000</td>\n",
       "    </tr>\n",
       "    <tr>\n",
       "      <th>50%</th>\n",
       "      <td>2633.50000</td>\n",
       "      <td>13.000000</td>\n",
       "      <td>9.000000</td>\n",
       "      <td>0.000000</td>\n",
       "    </tr>\n",
       "    <tr>\n",
       "      <th>75%</th>\n",
       "      <td>3950.25000</td>\n",
       "      <td>30.000000</td>\n",
       "      <td>23.000000</td>\n",
       "      <td>0.000000</td>\n",
       "    </tr>\n",
       "    <tr>\n",
       "      <th>max</th>\n",
       "      <td>5267.00000</td>\n",
       "      <td>644.000000</td>\n",
       "      <td>583.000000</td>\n",
       "      <td>2750.000000</td>\n",
       "    </tr>\n",
       "  </tbody>\n",
       "</table>\n",
       "</div>"
      ],
      "text/plain": [
       "            index       Aboard   Fatalities       Ground\n",
       "count  5268.00000  5246.000000  5256.000000  5246.000000\n",
       "mean   2633.50000    27.554518    20.068303     1.608845\n",
       "std    1520.88494    43.076711    33.199952    53.987827\n",
       "min       0.00000     0.000000     0.000000     0.000000\n",
       "25%    1316.75000     5.000000     3.000000     0.000000\n",
       "50%    2633.50000    13.000000     9.000000     0.000000\n",
       "75%    3950.25000    30.000000    23.000000     0.000000\n",
       "max    5267.00000   644.000000   583.000000  2750.000000"
      ]
     },
     "execution_count": 15,
     "metadata": {},
     "output_type": "execute_result"
    }
   ],
   "source": [
    "data.describe()"
   ]
  },
  {
   "cell_type": "markdown",
   "id": "63a26987-3c8f-43ff-bd62-ad0ba7f9ee00",
   "metadata": {},
   "source": [
    "Tampilkan nilai korelasi attribute bertipe angka."
   ]
  },
  {
   "cell_type": "code",
   "execution_count": 17,
   "id": "8bffa8be-d30e-4ee1-86bf-43c5967567f9",
   "metadata": {},
   "outputs": [
    {
     "name": "stderr",
     "output_type": "stream",
     "text": [
      "C:\\Users\\Acer\\AppData\\Local\\Temp\\ipykernel_13616\\2627137660.py:1: FutureWarning: The default value of numeric_only in DataFrame.corr is deprecated. In a future version, it will default to False. Select only valid columns or specify the value of numeric_only to silence this warning.\n",
      "  data.corr()\n"
     ]
    },
    {
     "data": {
      "text/html": [
       "<div>\n",
       "<style scoped>\n",
       "    .dataframe tbody tr th:only-of-type {\n",
       "        vertical-align: middle;\n",
       "    }\n",
       "\n",
       "    .dataframe tbody tr th {\n",
       "        vertical-align: top;\n",
       "    }\n",
       "\n",
       "    .dataframe thead th {\n",
       "        text-align: right;\n",
       "    }\n",
       "</style>\n",
       "<table border=\"1\" class=\"dataframe\">\n",
       "  <thead>\n",
       "    <tr style=\"text-align: right;\">\n",
       "      <th></th>\n",
       "      <th>index</th>\n",
       "      <th>Aboard</th>\n",
       "      <th>Fatalities</th>\n",
       "      <th>Ground</th>\n",
       "    </tr>\n",
       "  </thead>\n",
       "  <tbody>\n",
       "    <tr>\n",
       "      <th>index</th>\n",
       "      <td>1.000000</td>\n",
       "      <td>0.146481</td>\n",
       "      <td>0.097453</td>\n",
       "      <td>0.031080</td>\n",
       "    </tr>\n",
       "    <tr>\n",
       "      <th>Aboard</th>\n",
       "      <td>0.146481</td>\n",
       "      <td>1.000000</td>\n",
       "      <td>0.757172</td>\n",
       "      <td>0.023241</td>\n",
       "    </tr>\n",
       "    <tr>\n",
       "      <th>Fatalities</th>\n",
       "      <td>0.097453</td>\n",
       "      <td>0.757172</td>\n",
       "      <td>1.000000</td>\n",
       "      <td>0.035170</td>\n",
       "    </tr>\n",
       "    <tr>\n",
       "      <th>Ground</th>\n",
       "      <td>0.031080</td>\n",
       "      <td>0.023241</td>\n",
       "      <td>0.035170</td>\n",
       "      <td>1.000000</td>\n",
       "    </tr>\n",
       "  </tbody>\n",
       "</table>\n",
       "</div>"
      ],
      "text/plain": [
       "               index    Aboard  Fatalities    Ground\n",
       "index       1.000000  0.146481    0.097453  0.031080\n",
       "Aboard      0.146481  1.000000    0.757172  0.023241\n",
       "Fatalities  0.097453  0.757172    1.000000  0.035170\n",
       "Ground      0.031080  0.023241    0.035170  1.000000"
      ]
     },
     "execution_count": 17,
     "metadata": {},
     "output_type": "execute_result"
    }
   ],
   "source": [
    "data.corr()"
   ]
  },
  {
   "cell_type": "markdown",
   "id": "ad24a80c-fb6a-4ea1-8ed7-4e9fb274858d",
   "metadata": {},
   "source": [
    "mengubah tipe int menjadi float pada atribut index"
   ]
  },
  {
   "cell_type": "code",
   "execution_count": 20,
   "id": "909835c9-1e2a-42ac-b542-2904d32ca2c0",
   "metadata": {},
   "outputs": [
    {
     "data": {
      "text/plain": [
       "0    0\n",
       "1    1\n",
       "2    2\n",
       "3    3\n",
       "4    4\n",
       "Name: index, dtype: int64"
      ]
     },
     "execution_count": 20,
     "metadata": {},
     "output_type": "execute_result"
    }
   ],
   "source": [
    "data[\"index\"].head()"
   ]
  },
  {
   "cell_type": "code",
   "execution_count": 22,
   "id": "b61f11e2-a934-4a95-bbe2-ca1d1e1d082e",
   "metadata": {},
   "outputs": [],
   "source": [
    "data[\"index\"] = data[\"index\"]*0.001"
   ]
  },
  {
   "cell_type": "code",
   "execution_count": 23,
   "id": "d6d85ad6-2160-42da-bdc2-76bb159c3c7b",
   "metadata": {},
   "outputs": [
    {
     "data": {
      "text/plain": [
       "0    0.000\n",
       "1    0.001\n",
       "2    0.002\n",
       "3    0.003\n",
       "4    0.004\n",
       "Name: index, dtype: float64"
      ]
     },
     "execution_count": 23,
     "metadata": {},
     "output_type": "execute_result"
    }
   ],
   "source": [
    "data[\"index\"].head()"
   ]
  },
  {
   "cell_type": "markdown",
   "id": "f178bf10-2dc2-4a75-a88b-34b9704dba55",
   "metadata": {},
   "source": [
    "Tampilkan 10 record pertama dari attribute bertipe angka."
   ]
  },
  {
   "cell_type": "code",
   "execution_count": 24,
   "id": "a51f40db-3e99-4193-9bef-357b301d645f",
   "metadata": {},
   "outputs": [
    {
     "data": {
      "text/plain": [
       "index           float64\n",
       "Date             object\n",
       "Time             object\n",
       "Location         object\n",
       "Operator         object\n",
       "Flight #         object\n",
       "Route            object\n",
       "Type             object\n",
       "Registration     object\n",
       "cn/In            object\n",
       "Aboard          float64\n",
       "Fatalities      float64\n",
       "Ground          float64\n",
       "Summary          object\n",
       "dtype: object"
      ]
     },
     "execution_count": 24,
     "metadata": {},
     "output_type": "execute_result"
    }
   ],
   "source": [
    "data.dtypes"
   ]
  },
  {
   "cell_type": "code",
   "execution_count": 25,
   "id": "9d778f45-e4f5-45e1-b464-dbea47b1d443",
   "metadata": {},
   "outputs": [],
   "source": [
    "dataAngka = pd.DataFrame()\n",
    "for i in data.columns:\n",
    "    if(data[i].dtypes == \"int64\" or data[i].dtypes == \"float64\"):\n",
    "        dataAngka[i] = data[i]"
   ]
  },
  {
   "cell_type": "code",
   "execution_count": 26,
   "id": "a2fbe926-dcf0-4541-9a6c-45c736d995ef",
   "metadata": {},
   "outputs": [
    {
     "data": {
      "text/plain": [
       "index         float64\n",
       "Aboard        float64\n",
       "Fatalities    float64\n",
       "Ground        float64\n",
       "dtype: object"
      ]
     },
     "execution_count": 26,
     "metadata": {},
     "output_type": "execute_result"
    }
   ],
   "source": [
    "dataAngka.dtypes"
   ]
  },
  {
   "cell_type": "code",
   "execution_count": 27,
   "id": "81388b81-8f6d-4ae5-b71e-5f7d368eec3f",
   "metadata": {},
   "outputs": [
    {
     "data": {
      "text/html": [
       "<div>\n",
       "<style scoped>\n",
       "    .dataframe tbody tr th:only-of-type {\n",
       "        vertical-align: middle;\n",
       "    }\n",
       "\n",
       "    .dataframe tbody tr th {\n",
       "        vertical-align: top;\n",
       "    }\n",
       "\n",
       "    .dataframe thead th {\n",
       "        text-align: right;\n",
       "    }\n",
       "</style>\n",
       "<table border=\"1\" class=\"dataframe\">\n",
       "  <thead>\n",
       "    <tr style=\"text-align: right;\">\n",
       "      <th></th>\n",
       "      <th>index</th>\n",
       "      <th>Aboard</th>\n",
       "      <th>Fatalities</th>\n",
       "      <th>Ground</th>\n",
       "    </tr>\n",
       "  </thead>\n",
       "  <tbody>\n",
       "    <tr>\n",
       "      <th>0</th>\n",
       "      <td>0.000</td>\n",
       "      <td>2.0</td>\n",
       "      <td>1.0</td>\n",
       "      <td>0.0</td>\n",
       "    </tr>\n",
       "    <tr>\n",
       "      <th>1</th>\n",
       "      <td>0.001</td>\n",
       "      <td>5.0</td>\n",
       "      <td>5.0</td>\n",
       "      <td>0.0</td>\n",
       "    </tr>\n",
       "    <tr>\n",
       "      <th>2</th>\n",
       "      <td>0.002</td>\n",
       "      <td>1.0</td>\n",
       "      <td>1.0</td>\n",
       "      <td>0.0</td>\n",
       "    </tr>\n",
       "    <tr>\n",
       "      <th>3</th>\n",
       "      <td>0.003</td>\n",
       "      <td>20.0</td>\n",
       "      <td>14.0</td>\n",
       "      <td>0.0</td>\n",
       "    </tr>\n",
       "    <tr>\n",
       "      <th>4</th>\n",
       "      <td>0.004</td>\n",
       "      <td>30.0</td>\n",
       "      <td>30.0</td>\n",
       "      <td>0.0</td>\n",
       "    </tr>\n",
       "    <tr>\n",
       "      <th>5</th>\n",
       "      <td>0.005</td>\n",
       "      <td>41.0</td>\n",
       "      <td>21.0</td>\n",
       "      <td>0.0</td>\n",
       "    </tr>\n",
       "    <tr>\n",
       "      <th>6</th>\n",
       "      <td>0.006</td>\n",
       "      <td>19.0</td>\n",
       "      <td>19.0</td>\n",
       "      <td>0.0</td>\n",
       "    </tr>\n",
       "    <tr>\n",
       "      <th>7</th>\n",
       "      <td>0.007</td>\n",
       "      <td>20.0</td>\n",
       "      <td>20.0</td>\n",
       "      <td>0.0</td>\n",
       "    </tr>\n",
       "    <tr>\n",
       "      <th>8</th>\n",
       "      <td>0.008</td>\n",
       "      <td>22.0</td>\n",
       "      <td>22.0</td>\n",
       "      <td>0.0</td>\n",
       "    </tr>\n",
       "    <tr>\n",
       "      <th>9</th>\n",
       "      <td>0.009</td>\n",
       "      <td>19.0</td>\n",
       "      <td>19.0</td>\n",
       "      <td>0.0</td>\n",
       "    </tr>\n",
       "  </tbody>\n",
       "</table>\n",
       "</div>"
      ],
      "text/plain": [
       "   index  Aboard  Fatalities  Ground\n",
       "0  0.000     2.0         1.0     0.0\n",
       "1  0.001     5.0         5.0     0.0\n",
       "2  0.002     1.0         1.0     0.0\n",
       "3  0.003    20.0        14.0     0.0\n",
       "4  0.004    30.0        30.0     0.0\n",
       "5  0.005    41.0        21.0     0.0\n",
       "6  0.006    19.0        19.0     0.0\n",
       "7  0.007    20.0        20.0     0.0\n",
       "8  0.008    22.0        22.0     0.0\n",
       "9  0.009    19.0        19.0     0.0"
      ]
     },
     "execution_count": 27,
     "metadata": {},
     "output_type": "execute_result"
    }
   ],
   "source": [
    "dataAngka.head(10)"
   ]
  },
  {
   "cell_type": "markdown",
   "id": "c24f54a6-8972-4cff-a568-1e2c5c80ba3d",
   "metadata": {},
   "source": [
    "Simpan dataset dengan attribute bertipe angka ke dalam file CSV"
   ]
  },
  {
   "cell_type": "code",
   "execution_count": 29,
   "id": "b7e638aa-9cc2-46ed-8eaa-ac21d3695dca",
   "metadata": {},
   "outputs": [],
   "source": [
    "dataAngka.to_csv(\"Data-tipe-angka.csv\")"
   ]
  },
  {
   "cell_type": "code",
   "execution_count": null,
   "id": "a6d8a621-4fd3-46d1-a809-77272f49a813",
   "metadata": {},
   "outputs": [],
   "source": []
  }
 ],
 "metadata": {
  "kernelspec": {
   "display_name": "Fayza-004-posttest2",
   "language": "python",
   "name": "fayza-004-posttest2"
  },
  "language_info": {
   "codemirror_mode": {
    "name": "ipython",
    "version": 3
   },
   "file_extension": ".py",
   "mimetype": "text/x-python",
   "name": "python",
   "nbconvert_exporter": "python",
   "pygments_lexer": "ipython3",
   "version": "3.10.7"
  }
 },
 "nbformat": 4,
 "nbformat_minor": 5
}
